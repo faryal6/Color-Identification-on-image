{
 "cells": [
  {
   "cell_type": "code",
   "execution_count": 1,
   "id": "75d59446",
   "metadata": {},
   "outputs": [],
   "source": [
    "#importing libraries\n",
    "import pandas as pd\n",
    "import cv2"
   ]
  },
  {
   "cell_type": "code",
   "execution_count": 2,
   "id": "1a12b42e",
   "metadata": {},
   "outputs": [],
   "source": [
    "#loading both test image and csv file containing color data\n",
    "img_path = './images/img3.jpg'\n",
    "csv_path = 'colors.csv'"
   ]
  },
  {
   "cell_type": "code",
   "execution_count": 3,
   "id": "a67721e8",
   "metadata": {},
   "outputs": [],
   "source": [
    "#Create headers\n",
    "index = ['color', 'color_name', 'hex', 'R', 'G', 'B']\n",
    "#create a dataframe & read a csv file\n",
    "df = pd.read_csv(csv_path, names=index, header=None)"
   ]
  },
  {
   "cell_type": "code",
   "execution_count": 4,
   "id": "6a0f97e7",
   "metadata": {},
   "outputs": [],
   "source": [
    "#Read an image \n",
    "img = cv2.imread(img_path)\n",
    "img = cv2.resize(img,(800,600))"
   ]
  },
  {
   "cell_type": "code",
   "execution_count": 5,
   "id": "31c32db4",
   "metadata": {},
   "outputs": [],
   "source": [
    "#setting status as false unless Mouse move\n",
    "clicked = False\n",
    "#getting R, G & B data from mouse cursor position on X-Y Plane\n",
    "r = g = b = xpos = ypos = 0"
   ]
  },
  {
   "cell_type": "code",
   "execution_count": 6,
   "id": "a6d9e1bb",
   "metadata": {},
   "outputs": [],
   "source": [
    "#Function to calculate minimum distance between image color and all colors in our 'dataset'.And return the most matching color :\n",
    "def get_color_name(R,G,B):\n",
    "    minimum = 1000\n",
    "    for i in range(len(df)):\n",
    "        d = abs(R - int(df.loc[i,'R'])) + abs(G - int(df.loc[i,'G'])) + abs(B - int(df.loc[i,'B']))\n",
    "        if d <= minimum:\n",
    "            minimum = d\n",
    "            cname = df.loc[i,'color_name']\n",
    "    return cname"
   ]
  },
  {
   "cell_type": "code",
   "execution_count": 7,
   "id": "27d60861",
   "metadata": {},
   "outputs": [],
   "source": [
    "# Function to draw mouse cursor for easy navigation and to get (x,y) coordinates to Extract BGR range of colors :\n",
    "def draw_function(event, x, y, flags, params):\n",
    "    if event == cv2.EVENT_LBUTTONDBLCLK:\n",
    "        #co-ordinates of a particular point in that image\n",
    "        print(x,y)\n",
    "        global clicked, r, g, b, xpos, ypos\n",
    "        clicked = True\n",
    "        xpos = x\n",
    "        ypos = y\n",
    "        b, g, r = img[y,x]\n",
    "        print(b,g,r)\n",
    "        #converting uint into int\n",
    "        b = int(b)\n",
    "        r = int(r)\n",
    "        g = int(g)"
   ]
  },
  {
   "cell_type": "code",
   "execution_count": 8,
   "id": "6711df37",
   "metadata": {},
   "outputs": [],
   "source": [
    "#create a window\n",
    "cv2.namedWindow('image')\n",
    "cv2.setMouseCallback('image', draw_function)"
   ]
  },
  {
   "cell_type": "code",
   "execution_count": null,
   "id": "66a39770",
   "metadata": {},
   "outputs": [],
   "source": [
    "#used function,drawing results that on particular area which color is present.\n",
    "while True:\n",
    "    cv2.imshow('image',img)\n",
    "    if clicked:\n",
    "        cv2.rectangle(img,(20,20),(600,60),(b,g,r),-1)\n",
    "        text = get_color_name(r,g,b) + 'R='+str(r)+'G='+str(g)+'B='+str(b)\n",
    "        cv2.putText(img, text, (50,50), 2,0.8,(255,255,255),2,cv2.LINE_AA)\n",
    "        if r+g+b>=600:\n",
    "            cv2.putText(img, text, (50,50), 2,0.8,(0,0,0),2,cv2.LINE_AA)\n",
    "\n",
    "    if cv2.waitKey(20) & 0xFF == 27:\n",
    "        break\n",
    "    \n",
    "cv2.destroyAllWindows()"
   ]
  },
  {
   "cell_type": "code",
   "execution_count": null,
   "id": "17ecf7ad",
   "metadata": {},
   "outputs": [],
   "source": []
  },
  {
   "cell_type": "code",
   "execution_count": null,
   "id": "e19e341b",
   "metadata": {},
   "outputs": [],
   "source": []
  }
 ],
 "metadata": {
  "kernelspec": {
   "display_name": "Python 3",
   "language": "python",
   "name": "python3"
  },
  "language_info": {
   "codemirror_mode": {
    "name": "ipython",
    "version": 3
   },
   "file_extension": ".py",
   "mimetype": "text/x-python",
   "name": "python",
   "nbconvert_exporter": "python",
   "pygments_lexer": "ipython3",
   "version": "3.7.1"
  }
 },
 "nbformat": 4,
 "nbformat_minor": 5
}
